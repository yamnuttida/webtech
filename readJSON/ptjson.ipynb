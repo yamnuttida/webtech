{
  "nbformat": 4,
  "nbformat_minor": 0,
  "metadata": {
    "colab": {
      "name": "ptjson.ipynb",
      "provenance": [],
      "collapsed_sections": []
    },
    "kernelspec": {
      "name": "python3",
      "display_name": "Python 3"
    }
  },
  "cells": [
    {
      "cell_type": "code",
      "metadata": {
        "id": "HK0TC_EGV7TW"
      },
      "source": [
        "import json\n",
        "person = '{\"name\": \"Bob\", \"languages\": [\"English\", \"Fench\"]}'"
      ],
      "execution_count": null,
      "outputs": []
    },
    {
      "cell_type": "code",
      "metadata": {
        "id": "P6dWWXNTV9rD"
      },
      "source": [
        "person_dict = json.loads(person)"
      ],
      "execution_count": null,
      "outputs": []
    },
    {
      "cell_type": "code",
      "metadata": {
        "id": "fHuWnk5iWNwJ"
      },
      "source": [
        "# Output: {'name': 'Bob', 'languages': ['English', 'Fench']}\n",
        "print(person_dict)"
      ],
      "execution_count": null,
      "outputs": []
    },
    {
      "cell_type": "code",
      "metadata": {
        "id": "3os9quvOWQGl"
      },
      "source": [
        "# Output: ['English', 'French']\n",
        "print(person_dict['languages'][1])"
      ],
      "execution_count": null,
      "outputs": []
    },
    {
      "cell_type": "code",
      "metadata": {
        "id": "q7FA0wjKWXY7"
      },
      "source": [
        "with open('/content/sample_data/person.json') as f:\n",
        "  data = json.load(f)"
      ],
      "execution_count": null,
      "outputs": []
    },
    {
      "cell_type": "code",
      "metadata": {
        "id": "kcHE8ro7Xpnk"
      },
      "source": [
        "# Output: {'name': 'Bob', 'languages': ['English', 'Fench']}\n",
        "print(data)"
      ],
      "execution_count": null,
      "outputs": []
    },
    {
      "cell_type": "code",
      "metadata": {
        "id": "EHlLu_WyZgbq"
      },
      "source": [
        "person_dict = {\"name\": \"Bob\",\n",
        "\"languages\": [\"English\", \"Fench\"],\n",
        "\"married\": True,\n",
        "\"age\": 32\n",
        "}\n",
        "with open('/content/sample_data/person.txt', 'w') as json_file:\n",
        "  json.dump(person_dict, json_file)"
      ],
      "execution_count": null,
      "outputs": []
    },
    {
      "cell_type": "code",
      "metadata": {
        "id": "jU-IxHJ1ZzLO"
      },
      "source": [
        "person_string = '{\"name\": \"Bob\", \"languages\": \"English\", \"numbers\": [2, 1.6, null]}'\n",
        "# Getting dictionary\n",
        "person_dict = json.loads(person_string)\n",
        "# Pretty Printing JSON string back\n",
        "print(json.dumps(person_dict, indent = 4, sort_keys=True))"
      ],
      "execution_count": null,
      "outputs": []
    },
    {
      "cell_type": "code",
      "metadata": {
        "id": "9Ry6sxxUaXne"
      },
      "source": [
        ""
      ],
      "execution_count": null,
      "outputs": []
    }
  ]
}